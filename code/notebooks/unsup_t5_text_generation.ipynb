{
  "cells": [
    {
      "cell_type": "markdown",
      "metadata": {
        "id": "YyNN0pdwr5u1"
      },
      "source": [
        "### Setup"
      ]
    },
    {
      "cell_type": "code",
      "execution_count": null,
      "metadata": {
        "colab": {
          "base_uri": "https://localhost:8080/"
        },
        "id": "FnkN6mldPwTP",
        "outputId": "ec91c00c-9b4e-4a36-bc38-d20dd79a975f"
      },
      "outputs": [
        {
          "output_type": "stream",
          "name": "stdout",
          "text": [
            "Sat Aug 13 18:29:21 2022       \n",
            "+-----------------------------------------------------------------------------+\n",
            "| NVIDIA-SMI 460.32.03    Driver Version: 460.32.03    CUDA Version: 11.2     |\n",
            "|-------------------------------+----------------------+----------------------+\n",
            "| GPU  Name        Persistence-M| Bus-Id        Disp.A | Volatile Uncorr. ECC |\n",
            "| Fan  Temp  Perf  Pwr:Usage/Cap|         Memory-Usage | GPU-Util  Compute M. |\n",
            "|                               |                      |               MIG M. |\n",
            "|===============================+======================+======================|\n",
            "|   0  Tesla P100-PCIE...  Off  | 00000000:00:04.0 Off |                    0 |\n",
            "| N/A   36C    P0    27W / 250W |      0MiB / 16280MiB |      0%      Default |\n",
            "|                               |                      |                  N/A |\n",
            "+-------------------------------+----------------------+----------------------+\n",
            "                                                                               \n",
            "+-----------------------------------------------------------------------------+\n",
            "| Processes:                                                                  |\n",
            "|  GPU   GI   CI        PID   Type   Process name                  GPU Memory |\n",
            "|        ID   ID                                                   Usage      |\n",
            "|=============================================================================|\n",
            "|  No running processes found                                                 |\n",
            "+-----------------------------------------------------------------------------+\n"
          ]
        }
      ],
      "source": [
        "!nvidia-smi"
      ]
    },
    {
      "cell_type": "markdown",
      "metadata": {
        "id": "onVnGJWr3VZ6"
      },
      "source": [
        "### Utils"
      ]
    },
    {
      "cell_type": "code",
      "execution_count": null,
      "metadata": {
        "colab": {
          "base_uri": "https://localhost:8080/"
        },
        "id": "QaK1ZcBPn01j",
        "outputId": "c0aacbf1-335a-4800-9a73-f278b3dfe34b"
      },
      "outputs": [
        {
          "output_type": "display_data",
          "data": {
            "text/plain": [
              "<IPython.core.display.HTML object>"
            ],
            "text/html": [
              "\n",
              "  <style>\n",
              "    pre {\n",
              "        white-space: pre-wrap;\n",
              "    }\n",
              "  </style>\n",
              "  "
            ]
          },
          "metadata": {}
        }
      ],
      "source": [
        "%%capture\n",
        "%pip install -r /content/feedback/code/requirements.txt"
      ]
    },
    {
      "cell_type": "markdown",
      "source": [
        "# Imports"
      ],
      "metadata": {
        "id": "oHp4Xnj1-C7i"
      }
    },
    {
      "cell_type": "code",
      "source": [
        "import os\n",
        "import gc\n",
        "import glob\n",
        "import json\n",
        "import pandas as pd\n",
        "import numpy as np\n",
        "\n",
        "from sklearn.metrics import f1_score, log_loss\n",
        "import matplotlib.pyplot as plt\n",
        "from itertools import chain\n",
        "\n",
        "from copy import deepcopy\n",
        "from dataclasses import dataclass\n",
        "\n",
        "import torch\n",
        "from transformers import DataCollatorWithPadding\n",
        "from torch.utils.data import DataLoader\n",
        "\n",
        "import torch\n",
        "import torch.nn as nn\n",
        "import torch.nn.functional as F\n",
        "import torch.utils.checkpoint\n",
        "\n",
        "import math\n",
        "import shutil\n",
        "\n",
        "from torch.optim import AdamW\n",
        "from transformers import get_cosine_schedule_with_warmup\n",
        "from transformers.trainer_pt_utils import get_parameter_names\n",
        "\n",
        "import pdb\n",
        "import random\n",
        "from collections import OrderedDict\n",
        "\n",
        "from accelerate import Accelerator\n",
        "from tqdm.auto import tqdm\n",
        "\n",
        "import re\n",
        "\n",
        "\n",
        "from datasets import Dataset\n",
        "from tokenizers import AddedToken\n",
        "from transformers import AutoTokenizer\n",
        "from transformers import T5Tokenizer, T5ForConditionalGeneration\n",
        "\n",
        "\n",
        "from transformers import (\n",
        "    AdamW,\n",
        "    T5ForConditionalGeneration,\n",
        "    T5Tokenizer,\n",
        "    get_linear_schedule_with_warmup\n",
        ")\n",
        "\n",
        "from transformers.optimization import  Adafactor\n"
      ],
      "metadata": {
        "colab": {
          "base_uri": "https://localhost:8080/",
          "height": 17
        },
        "id": "_lXuLj0G-F6A",
        "outputId": "d8ea7215-aff0-47cb-929e-c53e1ba070a8"
      },
      "execution_count": null,
      "outputs": [
        {
          "output_type": "display_data",
          "data": {
            "text/plain": [
              "<IPython.core.display.HTML object>"
            ],
            "text/html": [
              "\n",
              "  <style>\n",
              "    pre {\n",
              "        white-space: pre-wrap;\n",
              "    }\n",
              "  </style>\n",
              "  "
            ]
          },
          "metadata": {}
        }
      ]
    },
    {
      "cell_type": "markdown",
      "source": [
        "# Config"
      ],
      "metadata": {
        "id": "ibMMVTFtWRUx"
      }
    },
    {
      "cell_type": "code",
      "source": [
        "config =json.loads(\"\"\"{\n",
        "    \"debug\": false,\n",
        "    \"seed\": 453,\n",
        "    \"model_checkpoint\": \"t5-large\",\n",
        "    \n",
        "    \"batch_size\": 2,\n",
        "    \"warmup_pct\": 0.025,\n",
        "    \"num_epochs\": 5,\n",
        "    \n",
        "    \"max_length\": 320,\n",
        "    \"model_dir\": \"../models/unsup_T5_generator\",\n",
        "    \n",
        "    \"fpe_dataset_dir\": \"../datasets/feedback-prize-effectiveness\",\n",
        "    \"fold_path\": \"../datasets/processed/cv_map_topics_10_folds.parquet\",\n",
        "    \"train_2021_path\": \"../datasets/feedback-prize-2021/train.csv\",\n",
        "    \"train_essay_fpe21_dir\": \"../datasets/processed/fpe_21_train_essays.parquet\",\n",
        "    \"train_essay_fpe22_dir\": \"../datasets/processed/fpe_22_train_essays.parquet\",\n",
        "    \"test_essay_fpe22_dir\": \"../datasets/processed/fpe_22_test_essays.parquet\",\n",
        "    \"n_folds\":10\n",
        "}\"\"\")"
      ],
      "metadata": {
        "colab": {
          "base_uri": "https://localhost:8080/",
          "height": 17
        },
        "id": "t2WakK9CUt0U",
        "outputId": "9071fe0a-94a8-4e0c-cfa4-af4701c89134"
      },
      "execution_count": null,
      "outputs": [
        {
          "output_type": "display_data",
          "data": {
            "text/plain": [
              "<IPython.core.display.HTML object>"
            ],
            "text/html": [
              "\n",
              "  <style>\n",
              "    pre {\n",
              "        white-space: pre-wrap;\n",
              "    }\n",
              "  </style>\n",
              "  "
            ]
          },
          "metadata": {}
        }
      ]
    },
    {
      "cell_type": "markdown",
      "source": [
        "# Load Data"
      ],
      "metadata": {
        "id": "_3rYcO5qWUr-"
      }
    },
    {
      "cell_type": "code",
      "source": [
        "df = pd.read_csv(config[\"train_2021_path\"]).rename(columns={\"id\": \"essay_id\"})\n",
        "essay_df = pd.read_parquet(config[\"train_essay_fpe21_dir\"]).rename(columns={\"id\": \"essay_id\"})\n",
        "\n",
        "topic_df = pd.read_csv(\"../datasets/processed/fpe_2021_topics.csv\")\n",
        "topic_df = topic_df[[\"essay_id\", \"prompt\", \"topic_num\"]].copy()\n",
        "df = df.drop(columns=[\"predictionstring\", \"discourse_start\", \"discourse_end\"])"
      ],
      "metadata": {
        "colab": {
          "base_uri": "https://localhost:8080/",
          "height": 17
        },
        "id": "_sNL4mRHWW3L",
        "outputId": "7dd2f0bd-c5c6-49ad-c54e-0187b0c32b5e"
      },
      "execution_count": null,
      "outputs": [
        {
          "output_type": "display_data",
          "data": {
            "text/plain": [
              "<IPython.core.display.HTML object>"
            ],
            "text/html": [
              "\n",
              "  <style>\n",
              "    pre {\n",
              "        white-space: pre-wrap;\n",
              "    }\n",
              "  </style>\n",
              "  "
            ]
          },
          "metadata": {}
        }
      ]
    },
    {
      "cell_type": "code",
      "source": [
        "def relaxed_search(text, substring, min_length=2, fraction=0.99999):\n",
        "    \"\"\"\n",
        "    Returns substring's span from the given text with the certain precision.\n",
        "    \"\"\"\n",
        "\n",
        "    position = text.find(substring)\n",
        "    substring_length = len(substring)\n",
        "    if position == -1:\n",
        "        half_length = int(substring_length * fraction)\n",
        "        half_substring = substring[:half_length]\n",
        "        half_substring_length = len(half_substring)\n",
        "        if half_substring_length < min_length:\n",
        "            return [-1, 0]\n",
        "        else:\n",
        "            return relaxed_search(text=text,\n",
        "                                  substring=half_substring,\n",
        "                                  min_length=min_length,\n",
        "                                  fraction=fraction)\n",
        "\n",
        "    span = [position, position+substring_length]\n",
        "    return span\n",
        "\n",
        "\n",
        "def build_span_map(discourse_list, essay_text):\n",
        "    reading_head = 0\n",
        "    to_return = dict()\n",
        "\n",
        "    for cur_discourse in discourse_list:\n",
        "        if cur_discourse not in to_return:\n",
        "            to_return[cur_discourse] = []\n",
        "\n",
        "        matches = re.finditer(re.escape(r'{}'.format(cur_discourse)), essay_text)\n",
        "        for match in matches:\n",
        "            span_start, span_end = match.span()\n",
        "            if span_end <= reading_head:\n",
        "                continue\n",
        "            to_return[cur_discourse].append(match.span())\n",
        "            reading_head = span_end\n",
        "            break\n",
        "\n",
        "    # post process\n",
        "    for cur_discourse in discourse_list:\n",
        "        if not to_return[cur_discourse]:\n",
        "            print(\"resorting to relaxed search...\")\n",
        "            to_return[cur_discourse] = [relaxed_search(essay_text, cur_discourse)]\n",
        "    return to_return\n",
        "\n",
        "\n",
        "def get_substring_span(texts, mapping):\n",
        "    result = []\n",
        "    for text in texts:\n",
        "        ans = mapping[text].pop(0)\n",
        "        result.append(ans)\n",
        "    return result\n",
        "\n",
        "\n",
        "def process_input_df(anno_df, notes_df):\n",
        "    \"\"\"pre-process input dataframe\n",
        "\n",
        "    :param df: input dataframe\n",
        "    :type df: pd.DataFrame\n",
        "    :return: processed dataframe\n",
        "    :rtype: pd.DataFrame\n",
        "    \"\"\"\n",
        "    notes_df = deepcopy(notes_df)\n",
        "    anno_df = deepcopy(anno_df)\n",
        "\n",
        "    #------------------- Pre-Process Essay Text --------------------------#\n",
        "    anno_df[\"discourse_text\"] = anno_df[\"discourse_text\"].apply(lambda x: x.strip())  # pre-process\n",
        "    if \"discourse_effectiveness\" in anno_df.columns:\n",
        "        anno_df = anno_df[[\"discourse_id\", \"essay_id\", \"discourse_text\",\n",
        "                           \"discourse_type\", \"discourse_effectiveness\"]].copy()\n",
        "    else:\n",
        "        anno_df = anno_df[[\"discourse_id\", \"essay_id\", \"discourse_text\", \"discourse_type\"]].copy()\n",
        "\n",
        "    tmp_df = anno_df.groupby(\"essay_id\")[[\"discourse_id\", \"discourse_text\"]].agg(list).reset_index()\n",
        "    tmp_df = pd.merge(tmp_df, notes_df, on=\"essay_id\", how=\"left\")\n",
        "    tmp_df[\"span_map\"] = tmp_df[[\"discourse_text\", \"essay_text\"]].apply(\n",
        "        lambda x: build_span_map(x[0], x[1]), axis=1)\n",
        "    tmp_df[\"span\"] = tmp_df[[\"discourse_text\", \"span_map\"]].apply(\n",
        "        lambda x: get_substring_span(x[0], x[1]), axis=1)\n",
        "\n",
        "    all_discourse_ids = list(chain(*tmp_df[\"discourse_id\"].values))\n",
        "    all_discourse_spans = list(chain(*tmp_df[\"span\"].values))\n",
        "    span_df = pd.DataFrame()\n",
        "    span_df[\"discourse_id\"] = all_discourse_ids\n",
        "    span_df[\"span\"] = all_discourse_spans\n",
        "    span_df[\"discourse_start\"] = span_df[\"span\"].apply(lambda x: x[0])\n",
        "    span_df[\"discourse_end\"] = span_df[\"span\"].apply(lambda x: x[1])\n",
        "    span_df = span_df.drop(columns=\"span\")\n",
        "\n",
        "    anno_df = pd.merge(anno_df, span_df, on=\"discourse_id\", how=\"left\")\n",
        "    return anno_df\n"
      ],
      "metadata": {
        "colab": {
          "base_uri": "https://localhost:8080/",
          "height": 17
        },
        "id": "vU1CV9cRiLLb",
        "outputId": "e14f2c02-fb29-4b4a-f8cd-4916485dbca4"
      },
      "execution_count": null,
      "outputs": [
        {
          "output_type": "display_data",
          "data": {
            "text/plain": [
              "<IPython.core.display.HTML object>"
            ],
            "text/html": [
              "\n",
              "  <style>\n",
              "    pre {\n",
              "        white-space: pre-wrap;\n",
              "    }\n",
              "  </style>\n",
              "  "
            ]
          },
          "metadata": {}
        }
      ]
    },
    {
      "cell_type": "code",
      "source": [
        "df = process_input_df(df, essay_df)\n",
        "df = pd.merge(df, essay_df, on=\"essay_id\", how=\"left\")\n",
        "df = pd.merge(df, topic_df, on=\"essay_id\", how=\"left\")"
      ],
      "metadata": {
        "colab": {
          "base_uri": "https://localhost:8080/",
          "height": 34
        },
        "id": "Kcv1GtiCjtgU",
        "outputId": "ee086f9b-5928-426b-bc9b-ab8d8b89a547"
      },
      "execution_count": null,
      "outputs": [
        {
          "output_type": "display_data",
          "data": {
            "text/plain": [
              "<IPython.core.display.HTML object>"
            ],
            "text/html": [
              "\n",
              "  <style>\n",
              "    pre {\n",
              "        white-space: pre-wrap;\n",
              "    }\n",
              "  </style>\n",
              "  "
            ]
          },
          "metadata": {}
        },
        {
          "output_type": "stream",
          "name": "stdout",
          "text": [
            "resorting to relaxed search...\n"
          ]
        }
      ]
    },
    {
      "cell_type": "code",
      "source": [
        "pd.options.display.max_colwidth = 500"
      ],
      "metadata": {
        "id": "kYDaD8RDn_fo",
        "colab": {
          "base_uri": "https://localhost:8080/",
          "height": 17
        },
        "outputId": "37266ce8-4673-4615-c815-234e7b2531ff"
      },
      "execution_count": null,
      "outputs": [
        {
          "output_type": "display_data",
          "data": {
            "text/plain": [
              "<IPython.core.display.HTML object>"
            ],
            "text/html": [
              "\n",
              "  <style>\n",
              "    pre {\n",
              "        white-space: pre-wrap;\n",
              "    }\n",
              "  </style>\n",
              "  "
            ]
          },
          "metadata": {}
        }
      ]
    },
    {
      "cell_type": "code",
      "source": [
        "def get_model_input_text(prompt, left_context, discourse_type):\n",
        "\n",
        "    to_return = [\n",
        "        f\"Generate {discourse_type}\", \n",
        "        f\"Prompt: {prompt}\",\n",
        "        f\"Context: {left_context}\",\n",
        "    ]\n",
        "    return \" || \\n\".join(to_return)\n",
        "\n",
        "def get_model_output_text(discourse_text):\n",
        "    return discourse_text\n",
        "\n",
        "\n",
        "df[\"left_context\"] = df[[\"essay_text\", \"discourse_start\"]].apply(lambda x: x[0][:x[1]], axis=1)\n",
        "df[\"model_input\"] = df[[\"prompt\", \"left_context\", \"discourse_type\"]].apply(\n",
        "    lambda x: get_model_input_text(x[0], x[1], x[2]), axis=1\n",
        ")\n",
        "\n",
        "df[\"model_output\"] = df[\"discourse_text\"].apply(lambda x: get_model_output_text(x))"
      ],
      "metadata": {
        "id": "-ZJQAAdvlNvN",
        "colab": {
          "base_uri": "https://localhost:8080/",
          "height": 17
        },
        "outputId": "8033732b-7151-44e3-bae7-c45821f0657a"
      },
      "execution_count": null,
      "outputs": [
        {
          "output_type": "display_data",
          "data": {
            "text/plain": [
              "<IPython.core.display.HTML object>"
            ],
            "text/html": [
              "\n",
              "  <style>\n",
              "    pre {\n",
              "        white-space: pre-wrap;\n",
              "    }\n",
              "  </style>\n",
              "  "
            ]
          },
          "metadata": {}
        }
      ]
    },
    {
      "cell_type": "code",
      "source": [
        "df[[\"model_input\", \"model_output\"]].sample(1)"
      ],
      "metadata": {
        "id": "PgZ7UF3pJagm",
        "colab": {
          "base_uri": "https://localhost:8080/",
          "height": 177
        },
        "outputId": "5c0363e1-b987-4762-bea6-8d27750ba2f3"
      },
      "execution_count": null,
      "outputs": [
        {
          "output_type": "display_data",
          "data": {
            "text/plain": [
              "<IPython.core.display.HTML object>"
            ],
            "text/html": [
              "\n",
              "  <style>\n",
              "    pre {\n",
              "        white-space: pre-wrap;\n",
              "    }\n",
              "  </style>\n",
              "  "
            ]
          },
          "metadata": {}
        },
        {
          "output_type": "execute_result",
          "data": {
            "text/plain": [
              "                                                                                                                                                                                                                                                                                                                                                                                                                                                                                                                model_input  \\\n",
              "142504  Generate Evidence || \\nPrompt: Should you ask multiple people for advice? || \\nContext: We make decisions everyday, whether its what to eat for breakfast or a bigger decision like asking somebody on a date. People often consult other people such as their friends, family, and trusted adults before making a decision on something. We do this because getting multiple opinions can help us make the right choice by giving us a broader perspective on the situation. Some people may be biased if the q...   \n",
              "\n",
              "                                                                                                                                                                                                                                                                                                                                                                                                                                                                                                               model_output  \n",
              "142504  Bias is something that can affect a situation for the worse by giving an opinion that benefits one party or person in the situation. People may cover up or hide their bias to make it look like they are giving an answer from a neutral standpoint. When making a big decision in life it is important when getting advice to avoid getting a single biased answer by consulting more than one person. You may not realize it, but by only getting the opinions of people that you think will agree with you o...  "
            ],
            "text/html": [
              "\n",
              "  <div id=\"df-787ce3e8-491b-4bea-a5b1-f74b02756b6f\">\n",
              "    <div class=\"colab-df-container\">\n",
              "      <div>\n",
              "<style scoped>\n",
              "    .dataframe tbody tr th:only-of-type {\n",
              "        vertical-align: middle;\n",
              "    }\n",
              "\n",
              "    .dataframe tbody tr th {\n",
              "        vertical-align: top;\n",
              "    }\n",
              "\n",
              "    .dataframe thead th {\n",
              "        text-align: right;\n",
              "    }\n",
              "</style>\n",
              "<table border=\"1\" class=\"dataframe\">\n",
              "  <thead>\n",
              "    <tr style=\"text-align: right;\">\n",
              "      <th></th>\n",
              "      <th>model_input</th>\n",
              "      <th>model_output</th>\n",
              "    </tr>\n",
              "  </thead>\n",
              "  <tbody>\n",
              "    <tr>\n",
              "      <th>142504</th>\n",
              "      <td>Generate Evidence || \\nPrompt: Should you ask multiple people for advice? || \\nContext: We make decisions everyday, whether its what to eat for breakfast or a bigger decision like asking somebody on a date. People often consult other people such as their friends, family, and trusted adults before making a decision on something. We do this because getting multiple opinions can help us make the right choice by giving us a broader perspective on the situation. Some people may be biased if the q...</td>\n",
              "      <td>Bias is something that can affect a situation for the worse by giving an opinion that benefits one party or person in the situation. People may cover up or hide their bias to make it look like they are giving an answer from a neutral standpoint. When making a big decision in life it is important when getting advice to avoid getting a single biased answer by consulting more than one person. You may not realize it, but by only getting the opinions of people that you think will agree with you o...</td>\n",
              "    </tr>\n",
              "  </tbody>\n",
              "</table>\n",
              "</div>\n",
              "      <button class=\"colab-df-convert\" onclick=\"convertToInteractive('df-787ce3e8-491b-4bea-a5b1-f74b02756b6f')\"\n",
              "              title=\"Convert this dataframe to an interactive table.\"\n",
              "              style=\"display:none;\">\n",
              "        \n",
              "  <svg xmlns=\"http://www.w3.org/2000/svg\" height=\"24px\"viewBox=\"0 0 24 24\"\n",
              "       width=\"24px\">\n",
              "    <path d=\"M0 0h24v24H0V0z\" fill=\"none\"/>\n",
              "    <path d=\"M18.56 5.44l.94 2.06.94-2.06 2.06-.94-2.06-.94-.94-2.06-.94 2.06-2.06.94zm-11 1L8.5 8.5l.94-2.06 2.06-.94-2.06-.94L8.5 2.5l-.94 2.06-2.06.94zm10 10l.94 2.06.94-2.06 2.06-.94-2.06-.94-.94-2.06-.94 2.06-2.06.94z\"/><path d=\"M17.41 7.96l-1.37-1.37c-.4-.4-.92-.59-1.43-.59-.52 0-1.04.2-1.43.59L10.3 9.45l-7.72 7.72c-.78.78-.78 2.05 0 2.83L4 21.41c.39.39.9.59 1.41.59.51 0 1.02-.2 1.41-.59l7.78-7.78 2.81-2.81c.8-.78.8-2.07 0-2.86zM5.41 20L4 18.59l7.72-7.72 1.47 1.35L5.41 20z\"/>\n",
              "  </svg>\n",
              "      </button>\n",
              "      \n",
              "  <style>\n",
              "    .colab-df-container {\n",
              "      display:flex;\n",
              "      flex-wrap:wrap;\n",
              "      gap: 12px;\n",
              "    }\n",
              "\n",
              "    .colab-df-convert {\n",
              "      background-color: #E8F0FE;\n",
              "      border: none;\n",
              "      border-radius: 50%;\n",
              "      cursor: pointer;\n",
              "      display: none;\n",
              "      fill: #1967D2;\n",
              "      height: 32px;\n",
              "      padding: 0 0 0 0;\n",
              "      width: 32px;\n",
              "    }\n",
              "\n",
              "    .colab-df-convert:hover {\n",
              "      background-color: #E2EBFA;\n",
              "      box-shadow: 0px 1px 2px rgba(60, 64, 67, 0.3), 0px 1px 3px 1px rgba(60, 64, 67, 0.15);\n",
              "      fill: #174EA6;\n",
              "    }\n",
              "\n",
              "    [theme=dark] .colab-df-convert {\n",
              "      background-color: #3B4455;\n",
              "      fill: #D2E3FC;\n",
              "    }\n",
              "\n",
              "    [theme=dark] .colab-df-convert:hover {\n",
              "      background-color: #434B5C;\n",
              "      box-shadow: 0px 1px 3px 1px rgba(0, 0, 0, 0.15);\n",
              "      filter: drop-shadow(0px 1px 2px rgba(0, 0, 0, 0.3));\n",
              "      fill: #FFFFFF;\n",
              "    }\n",
              "  </style>\n",
              "\n",
              "      <script>\n",
              "        const buttonEl =\n",
              "          document.querySelector('#df-787ce3e8-491b-4bea-a5b1-f74b02756b6f button.colab-df-convert');\n",
              "        buttonEl.style.display =\n",
              "          google.colab.kernel.accessAllowed ? 'block' : 'none';\n",
              "\n",
              "        async function convertToInteractive(key) {\n",
              "          const element = document.querySelector('#df-787ce3e8-491b-4bea-a5b1-f74b02756b6f');\n",
              "          const dataTable =\n",
              "            await google.colab.kernel.invokeFunction('convertToInteractive',\n",
              "                                                     [key], {});\n",
              "          if (!dataTable) return;\n",
              "\n",
              "          const docLinkHtml = 'Like what you see? Visit the ' +\n",
              "            '<a target=\"_blank\" href=https://colab.research.google.com/notebooks/data_table.ipynb>data table notebook</a>'\n",
              "            + ' to learn more about interactive tables.';\n",
              "          element.innerHTML = '';\n",
              "          dataTable['output_type'] = 'display_data';\n",
              "          await google.colab.output.renderOutput(dataTable, element);\n",
              "          const docLink = document.createElement('div');\n",
              "          docLink.innerHTML = docLinkHtml;\n",
              "          element.appendChild(docLink);\n",
              "        }\n",
              "      </script>\n",
              "    </div>\n",
              "  </div>\n",
              "  "
            ]
          },
          "metadata": {},
          "execution_count": 12
        }
      ]
    },
    {
      "cell_type": "markdown",
      "source": [
        "# Model"
      ],
      "metadata": {
        "id": "jRgHVt7mu18M"
      }
    },
    {
      "cell_type": "code",
      "source": [
        "model = T5ForConditionalGeneration.from_pretrained(config[\"model_checkpoint\"])\n",
        "tokenizer = T5Tokenizer.from_pretrained(config[\"model_checkpoint\"], model_max_length=config[\"max_length\"])\n",
        "\n",
        "ckpt = torch.load(\"../models/T5_generator/fpe_model_unsupervised.pth.tar\")\n",
        "model.load_state_dict(ckpt[\"state_dict\"])\n",
        "\n",
        "del ckpt\n",
        "gc.collect()\n",
        "torch.cuda.empty_cache()"
      ],
      "metadata": {
        "id": "SGM9tqu1lOGF",
        "colab": {
          "base_uri": "https://localhost:8080/",
          "height": 113,
          "referenced_widgets": [
            "68582030e50143bda1628657e4934d67",
            "307f4690dd6145f68dbcc03f6abdd3d5",
            "68623d00281e4a329d9a5c5974cad603",
            "b6f0dd31213e418cbce0b356d44dd226",
            "0b533345f1094d8d95531979b42eefe8",
            "357e615c3278425b86ead43689f03112",
            "0ea8b2729db74197bace8c7b86ef0f4d",
            "77b0150e4db14ac3b52ed2b14bc52257",
            "bf2a58ba8a7346d29dfa67ff8b1984fa",
            "71deb3a41f374fc899008bc682c19e55",
            "248f4dd0b2434b8bb52ae4bc5353c128",
            "d930b099f99245d9bfa4565c7b0669e9",
            "c0ea95b6cfc648b39d621435ca8f9ae1",
            "8bc32e15b85a44e7934cc5d212e141e2",
            "222d3e39cdfe4bb992fbdc30d5cfb638",
            "a39a76511a3841e08b65178867d37c5e",
            "b2964c00a3d64c6e90e79ff0854f4c9a",
            "5407750c415c4dcdaafe9d642303e194",
            "d6e501640e9c4868867da1cad9dfd57a",
            "1ac290491c9d4f609ddc8f2228f9c1a3",
            "5ac82588e67b4193b02c911d952cb0ef",
            "adc780addb894b1f8b92044af57c1fa4",
            "d3c283aac314485bb01c59d81a880787",
            "e078e494c66c4fcfa7179447d218c024",
            "b5351dd46e9b489faed19f2f9e118fbf",
            "5407fb38555549278a614edcf535040a",
            "2c37d1fdf18a413796ecb11b9325938b",
            "2f8de73873214c5ca351326eae3af6bb",
            "a15ce64a2533482fbb5f9e763c2008c4",
            "f23c0fca8e34429cb84731a9d70fd2d8",
            "4950a7e047e84ffb93e460662cc73fab",
            "9716cf85fb644f518651d3eaab2a3225",
            "f39e8cc8e81542aba2caeff25fc1a228"
          ]
        },
        "outputId": "7e8a9658-9391-4ce6-8204-def3b1636a64"
      },
      "execution_count": null,
      "outputs": [
        {
          "output_type": "display_data",
          "data": {
            "text/plain": [
              "<IPython.core.display.HTML object>"
            ],
            "text/html": [
              "\n",
              "  <style>\n",
              "    pre {\n",
              "        white-space: pre-wrap;\n",
              "    }\n",
              "  </style>\n",
              "  "
            ]
          },
          "metadata": {}
        },
        {
          "output_type": "display_data",
          "data": {
            "text/plain": [
              "Downloading:   0%|          | 0.00/1.17k [00:00<?, ?B/s]"
            ],
            "application/vnd.jupyter.widget-view+json": {
              "version_major": 2,
              "version_minor": 0,
              "model_id": "68582030e50143bda1628657e4934d67"
            }
          },
          "metadata": {}
        },
        {
          "output_type": "display_data",
          "data": {
            "text/plain": [
              "Downloading:   0%|          | 0.00/2.75G [00:00<?, ?B/s]"
            ],
            "application/vnd.jupyter.widget-view+json": {
              "version_major": 2,
              "version_minor": 0,
              "model_id": "d930b099f99245d9bfa4565c7b0669e9"
            }
          },
          "metadata": {}
        },
        {
          "output_type": "display_data",
          "data": {
            "text/plain": [
              "Downloading:   0%|          | 0.00/773k [00:00<?, ?B/s]"
            ],
            "application/vnd.jupyter.widget-view+json": {
              "version_major": 2,
              "version_minor": 0,
              "model_id": "d3c283aac314485bb01c59d81a880787"
            }
          },
          "metadata": {}
        }
      ]
    },
    {
      "cell_type": "code",
      "source": [
        "accelerator = Accelerator()\n",
        "model = accelerator.prepare(model)"
      ],
      "metadata": {
        "id": "nrZ1zIWeqq3b",
        "colab": {
          "base_uri": "https://localhost:8080/",
          "height": 17
        },
        "outputId": "228bcd15-7418-47ef-c128-59893b584965"
      },
      "execution_count": null,
      "outputs": [
        {
          "output_type": "display_data",
          "data": {
            "text/plain": [
              "<IPython.core.display.HTML object>"
            ],
            "text/html": [
              "\n",
              "  <style>\n",
              "    pre {\n",
              "        white-space: pre-wrap;\n",
              "    }\n",
              "  </style>\n",
              "  "
            ]
          },
          "metadata": {}
        }
      ]
    },
    {
      "cell_type": "code",
      "source": [
        "model.eval()\n",
        "print()"
      ],
      "metadata": {
        "id": "UbOGtHebLyFS",
        "colab": {
          "base_uri": "https://localhost:8080/",
          "height": 34
        },
        "outputId": "606efc50-5a6d-4090-f756-5391e00b8a60"
      },
      "execution_count": null,
      "outputs": [
        {
          "output_type": "display_data",
          "data": {
            "text/plain": [
              "<IPython.core.display.HTML object>"
            ],
            "text/html": [
              "\n",
              "  <style>\n",
              "    pre {\n",
              "        white-space: pre-wrap;\n",
              "    }\n",
              "  </style>\n",
              "  "
            ]
          },
          "metadata": {}
        },
        {
          "output_type": "stream",
          "name": "stdout",
          "text": [
            "\n"
          ]
        }
      ]
    },
    {
      "cell_type": "markdown",
      "source": [
        "# Inference"
      ],
      "metadata": {
        "id": "GlTB6ya3KE6o"
      }
    },
    {
      "cell_type": "code",
      "source": [
        "def generate_text(input_text):\n",
        "    test_tokenized = tokenizer.encode_plus(\n",
        "        input_text, \n",
        "        add_special_tokens=True, \n",
        "        return_tensors=\"pt\", \n",
        "        truncation=True, \n",
        "        max_length=config[\"max_length\"], \n",
        "        padding=False\n",
        "    )\n",
        "    test_input_ids  = test_tokenized[\"input_ids\"]\n",
        "    test_attention_mask = test_tokenized[\"attention_mask\"]\n",
        "    \n",
        "    beam_outputs = model.generate(\n",
        "        input_ids = test_input_ids.to(\"cuda\"),\n",
        "        attention_mask = test_attention_mask.to(\"cuda\"),\n",
        "        max_length=config[\"max_length\"],\n",
        "        early_stopping=True,\n",
        "        num_beams=15,\n",
        "        num_return_sequences=1,\n",
        "        no_repeat_ngram_size=2,\n",
        "        temperature=2.0,\n",
        "        do_sample=True,\n",
        "    )\n",
        "\n",
        "    to_return = []\n",
        "    for beam_output in beam_outputs:\n",
        "        sent = tokenizer.decode(beam_output, skip_special_tokens=True, clean_up_tokenization_spaces=True)\n",
        "        to_return.append(sent)\n",
        "    torch.cuda.empty_cache()\n",
        "    return to_return[0]"
      ],
      "metadata": {
        "id": "v5jZcbxoLndO",
        "colab": {
          "base_uri": "https://localhost:8080/",
          "height": 17
        },
        "outputId": "be8654ae-a06f-4d8c-9f16-83d4a3c2bb83"
      },
      "execution_count": null,
      "outputs": [
        {
          "output_type": "display_data",
          "data": {
            "text/plain": [
              "<IPython.core.display.HTML object>"
            ],
            "text/html": [
              "\n",
              "  <style>\n",
              "    pre {\n",
              "        white-space: pre-wrap;\n",
              "    }\n",
              "  </style>\n",
              "  "
            ]
          },
          "metadata": {}
        }
      ]
    },
    {
      "cell_type": "code",
      "source": [
        "tqdm.pandas()"
      ],
      "metadata": {
        "id": "IC9M2XVvlOcz",
        "colab": {
          "base_uri": "https://localhost:8080/",
          "height": 17
        },
        "outputId": "c45655a6-92f7-4ec3-b1ee-1a9a5580e798"
      },
      "execution_count": null,
      "outputs": [
        {
          "output_type": "display_data",
          "data": {
            "text/plain": [
              "<IPython.core.display.HTML object>"
            ],
            "text/html": [
              "\n",
              "  <style>\n",
              "    pre {\n",
              "        white-space: pre-wrap;\n",
              "    }\n",
              "  </style>\n",
              "  "
            ]
          },
          "metadata": {}
        }
      ]
    },
    {
      "cell_type": "code",
      "source": [
        "def generate_aumentation(essay_id, input_df):\n",
        "    example_df = input_df[input_df[\"essay_id\"]==essay_id].copy()\n",
        "    example_df = example_df.sort_values(by=\"discourse_start\")\n",
        "    example_df = example_df.reset_index(drop=True)\n",
        "    \n",
        "    essay_text = example_df[\"essay_text\"].values[0]\n",
        "    starts = example_df[\"discourse_start\"].tolist()\n",
        "    ends = example_df[\"discourse_end\"].tolist()\n",
        "    \n",
        "    starts.append(-1)\n",
        "    \n",
        "    fillers = [essay_text[:starts[0]]]\n",
        "    \n",
        "    for s, e in zip(ends, starts[1:]):\n",
        "        fillers.append(essay_text[s:e])\n",
        "               \n",
        "    generated_texts = dict()\n",
        "\n",
        "    for idx, (row_id, row) in enumerate(example_df.iterrows()):\n",
        "        if idx == 0:\n",
        "            model_input = row.model_input\n",
        "            components = model_input.split(\"||\")\n",
        "            \n",
        "            onset = components[0]\n",
        "            prompt = components[1]\n",
        "            running_context = components[2]\n",
        "            \n",
        "        else:\n",
        "            original_input = row.model_input\n",
        "            onset = original_input.split(\"||\")[0]\n",
        "            running_context =  running_context + f\"{g}\" + f\"{fillers[idx]}\"\n",
        "\n",
        "        # print(\"--\"*20)\n",
        "        model_input = \" || \\n\".join([onset, prompt, running_context])\n",
        "        # print(model_input)\n",
        "        \n",
        "        g = generate_text(model_input)\n",
        "        generated_texts[idx] = g\n",
        "               \n",
        "    # set_trace()\n",
        "    generated_df = pd.Series(generated_texts).T\n",
        "    generated_df = pd.DataFrame(generated_df)\n",
        "    generated_df.columns = [\"t5_generated\"]\n",
        "    result_df = pd.concat([example_df, generated_df], axis=1)\n",
        "    result_df = result_df.drop(columns=[\"essay_text\", \"topic_num\", \"left_context\", \"model_input\", \"model_output\"])\n",
        "    \n",
        "    current_essay = fillers[0]\n",
        "    for idx in range(len(generated_df)):\n",
        "        current_essay += generated_df.iloc[idx][f\"t5_generated\"]\n",
        "        current_essay += fillers[idx+1]\n",
        "    return result_df, essay_text, current_essay"
      ],
      "metadata": {
        "id": "DW5_r1Jqc4GG",
        "colab": {
          "base_uri": "https://localhost:8080/",
          "height": 17
        },
        "outputId": "bc387d0e-bf6a-48f9-f190-a07923041737"
      },
      "execution_count": null,
      "outputs": [
        {
          "output_type": "display_data",
          "data": {
            "text/plain": [
              "<IPython.core.display.HTML object>"
            ],
            "text/html": [
              "\n",
              "  <style>\n",
              "    pre {\n",
              "        white-space: pre-wrap;\n",
              "    }\n",
              "  </style>\n",
              "  "
            ]
          },
          "metadata": {}
        }
      ]
    },
    {
      "cell_type": "code",
      "source": [
        "all_essay_ids = df[\"essay_id\"].unique().tolist()\n",
        "random.shuffle(all_essay_ids)\n",
        "essay_id = all_essay_ids[0]\n",
        "essay_id"
      ],
      "metadata": {
        "id": "Kxd-xuV4Mt9n",
        "colab": {
          "base_uri": "https://localhost:8080/",
          "height": 35
        },
        "outputId": "0855c067-c790-4c63-bd6c-215c2ad94c9c"
      },
      "execution_count": null,
      "outputs": [
        {
          "output_type": "display_data",
          "data": {
            "text/plain": [
              "<IPython.core.display.HTML object>"
            ],
            "text/html": [
              "\n",
              "  <style>\n",
              "    pre {\n",
              "        white-space: pre-wrap;\n",
              "    }\n",
              "  </style>\n",
              "  "
            ]
          },
          "metadata": {}
        },
        {
          "output_type": "execute_result",
          "data": {
            "text/plain": [
              "'E91C501B7AFA'"
            ],
            "application/vnd.google.colaboratory.intrinsic+json": {
              "type": "string"
            }
          },
          "metadata": {},
          "execution_count": 19
        }
      ]
    },
    {
      "cell_type": "code",
      "source": [
        "os.makedirs(\"../datasets/augmented_data/worker_3\", exist_ok=True)"
      ],
      "metadata": {
        "id": "aP6KrClSrCW1",
        "colab": {
          "base_uri": "https://localhost:8080/",
          "height": 17
        },
        "outputId": "580c6460-016d-4b1a-f1a0-a3b56ab8af43"
      },
      "execution_count": null,
      "outputs": [
        {
          "output_type": "display_data",
          "data": {
            "text/plain": [
              "<IPython.core.display.HTML object>"
            ],
            "text/html": [
              "\n",
              "  <style>\n",
              "    pre {\n",
              "        white-space: pre-wrap;\n",
              "    }\n",
              "  </style>\n",
              "  "
            ]
          },
          "metadata": {}
        }
      ]
    },
    {
      "cell_type": "code",
      "source": [
        "from IPython.core.debugger import set_trace"
      ],
      "metadata": {
        "id": "5tcGtJxnLxwd",
        "colab": {
          "base_uri": "https://localhost:8080/",
          "height": 17
        },
        "outputId": "9913db82-87e9-498e-aecf-142b3d6dd6ad"
      },
      "execution_count": null,
      "outputs": [
        {
          "output_type": "display_data",
          "data": {
            "text/plain": [
              "<IPython.core.display.HTML object>"
            ],
            "text/html": [
              "\n",
              "  <style>\n",
              "    pre {\n",
              "        white-space: pre-wrap;\n",
              "    }\n",
              "  </style>\n",
              "  "
            ]
          },
          "metadata": {}
        }
      ]
    },
    {
      "cell_type": "code",
      "source": [
        "os.getcwd()"
      ],
      "metadata": {
        "id": "VFm0w2DHQzwo",
        "colab": {
          "base_uri": "https://localhost:8080/",
          "height": 35
        },
        "outputId": "7d4b9ab2-500b-4ad3-a201-2d00552b8de0"
      },
      "execution_count": null,
      "outputs": [
        {
          "output_type": "display_data",
          "data": {
            "text/plain": [
              "<IPython.core.display.HTML object>"
            ],
            "text/html": [
              "\n",
              "  <style>\n",
              "    pre {\n",
              "        white-space: pre-wrap;\n",
              "    }\n",
              "  </style>\n",
              "  "
            ]
          },
          "metadata": {}
        },
        {
          "output_type": "execute_result",
          "data": {
            "text/plain": [
              "'/content/drive/MyDrive/FPE/working'"
            ],
            "application/vnd.google.colaboratory.intrinsic+json": {
              "type": "string"
            }
          },
          "metadata": {},
          "execution_count": 22
        }
      ]
    },
    {
      "cell_type": "code",
      "source": [
        "for essay_num in tqdm(range(len(all_essay_ids))):\n",
        "    essay_id = all_essay_ids[essay_num]\n",
        "\n",
        "        \n",
        "    result_df, original_essay, generated_essay = generate_aumentation(essay_id, df)\n",
        "\n",
        "    \n",
        "    result_df.to_csv(f\"../datasets/augmented_data/worker_3/df_{essay_id}.csv\", index=False)\n",
        "\n",
        "    content = {f\"{essay_id}\": generated_essay}\n",
        "    with open(f\"../datasets/augmented_data/worker_3/{essay_id}_augmented.json\", \"w\") as f:\n",
        "        json.dump(content, f)\n",
        "    torch.cuda.empty_cache()\n",
        "    # set_trace()"
      ],
      "metadata": {
        "id": "GQ-9UYS6lOk5",
        "colab": {
          "base_uri": "https://localhost:8080/",
          "height": 49,
          "referenced_widgets": [
            "f7849084439b4d199663f03582af7d15",
            "f32424ba30d24022a365585ec6d2038b",
            "d744726c8cdb4ccb824bbe10f51489e3",
            "856bb466e4dd470fbeeacda838795c0b",
            "7e218bc899cd46328a797f6ba15413a7",
            "7411c76231464fe9bad3d770cbfb44b6",
            "d26394d44a9041eba8d1266cb907db24",
            "0602f95120f84b90afc7fa250017e614",
            "dc9b6aedb79548f6ba95fbea67f8a43e",
            "c2c9ea5a0f144e9cab13044ce5c58c2e",
            "84451331cbc44571921b79c583ea1a7e"
          ]
        },
        "outputId": "b6a51864-75b9-489c-a888-280f59b00093"
      },
      "execution_count": null,
      "outputs": [
        {
          "output_type": "display_data",
          "data": {
            "text/plain": [
              "<IPython.core.display.HTML object>"
            ],
            "text/html": [
              "\n",
              "  <style>\n",
              "    pre {\n",
              "        white-space: pre-wrap;\n",
              "    }\n",
              "  </style>\n",
              "  "
            ]
          },
          "metadata": {}
        },
        {
          "output_type": "display_data",
          "data": {
            "text/plain": [
              "  0%|          | 0/15594 [00:00<?, ?it/s]"
            ],
            "application/vnd.jupyter.widget-view+json": {
              "version_major": 2,
              "version_minor": 0,
              "model_id": "f7849084439b4d199663f03582af7d15"
            }
          },
          "metadata": {}
        }
      ]
    },
    {
      "cell_type": "code",
      "source": [],
      "metadata": {
        "id": "hdTUAA2vOXof"
      },
      "execution_count": null,
      "outputs": []
    },
    {
      "cell_type": "code",
      "source": [],
      "metadata": {
        "id": "IqGJnYYTOXqo"
      },
      "execution_count": null,
      "outputs": []
    },
    {
      "cell_type": "code",
      "source": [],
      "metadata": {
        "id": "aoztR2htOXtI"
      },
      "execution_count": null,
      "outputs": []
    },
    {
      "cell_type": "code",
      "source": [],
      "metadata": {
        "id": "k264YK0ZOXvK"
      },
      "execution_count": null,
      "outputs": []
    },
    {
      "cell_type": "code",
      "source": [],
      "metadata": {
        "id": "rbxj4K3HOXxh"
      },
      "execution_count": null,
      "outputs": []
    },
    {
      "cell_type": "code",
      "source": [],
      "metadata": {
        "id": "2co7pQ2gOXzz"
      },
      "execution_count": null,
      "outputs": []
    },
    {
      "cell_type": "code",
      "source": [],
      "metadata": {
        "id": "ANIyDaSOOX2G"
      },
      "execution_count": null,
      "outputs": []
    },
    {
      "cell_type": "code",
      "source": [],
      "metadata": {
        "id": "bntCf_rEOX37"
      },
      "execution_count": null,
      "outputs": []
    }
  ],
  "metadata": {
    "accelerator": "GPU",
    "colab": {
      "collapsed_sections": [
        "onVnGJWr3VZ6"
      ],
      "provenance": []
    },
    "gpuClass": "standard",
    "kernelspec": {
      "display_name": "Python 3",
      "name": "python3"
    },
    "language_info": {
      "name": "python"
    },
    "widgets": {
      "application/vnd.jupyter.widget-state+json": {
        "68582030e50143bda1628657e4934d67": {
          "model_module": "@jupyter-widgets/controls",
          "model_name": "HBoxModel",
          "model_module_version": "1.5.0",
          "state": {
            "_dom_classes": [],
            "_model_module": "@jupyter-widgets/controls",
            "_model_module_version": "1.5.0",
            "_model_name": "HBoxModel",
            "_view_count": null,
            "_view_module": "@jupyter-widgets/controls",
            "_view_module_version": "1.5.0",
            "_view_name": "HBoxView",
            "box_style": "",
            "children": [
              "IPY_MODEL_307f4690dd6145f68dbcc03f6abdd3d5",
              "IPY_MODEL_68623d00281e4a329d9a5c5974cad603",
              "IPY_MODEL_b6f0dd31213e418cbce0b356d44dd226"
            ],
            "layout": "IPY_MODEL_0b533345f1094d8d95531979b42eefe8"
          }
        },
        "307f4690dd6145f68dbcc03f6abdd3d5": {
          "model_module": "@jupyter-widgets/controls",
          "model_name": "HTMLModel",
          "model_module_version": "1.5.0",
          "state": {
            "_dom_classes": [],
            "_model_module": "@jupyter-widgets/controls",
            "_model_module_version": "1.5.0",
            "_model_name": "HTMLModel",
            "_view_count": null,
            "_view_module": "@jupyter-widgets/controls",
            "_view_module_version": "1.5.0",
            "_view_name": "HTMLView",
            "description": "",
            "description_tooltip": null,
            "layout": "IPY_MODEL_357e615c3278425b86ead43689f03112",
            "placeholder": "​",
            "style": "IPY_MODEL_0ea8b2729db74197bace8c7b86ef0f4d",
            "value": "Downloading: 100%"
          }
        },
        "68623d00281e4a329d9a5c5974cad603": {
          "model_module": "@jupyter-widgets/controls",
          "model_name": "FloatProgressModel",
          "model_module_version": "1.5.0",
          "state": {
            "_dom_classes": [],
            "_model_module": "@jupyter-widgets/controls",
            "_model_module_version": "1.5.0",
            "_model_name": "FloatProgressModel",
            "_view_count": null,
            "_view_module": "@jupyter-widgets/controls",
            "_view_module_version": "1.5.0",
            "_view_name": "ProgressView",
            "bar_style": "success",
            "description": "",
            "description_tooltip": null,
            "layout": "IPY_MODEL_77b0150e4db14ac3b52ed2b14bc52257",
            "max": 1200,
            "min": 0,
            "orientation": "horizontal",
            "style": "IPY_MODEL_bf2a58ba8a7346d29dfa67ff8b1984fa",
            "value": 1200
          }
        },
        "b6f0dd31213e418cbce0b356d44dd226": {
          "model_module": "@jupyter-widgets/controls",
          "model_name": "HTMLModel",
          "model_module_version": "1.5.0",
          "state": {
            "_dom_classes": [],
            "_model_module": "@jupyter-widgets/controls",
            "_model_module_version": "1.5.0",
            "_model_name": "HTMLModel",
            "_view_count": null,
            "_view_module": "@jupyter-widgets/controls",
            "_view_module_version": "1.5.0",
            "_view_name": "HTMLView",
            "description": "",
            "description_tooltip": null,
            "layout": "IPY_MODEL_71deb3a41f374fc899008bc682c19e55",
            "placeholder": "​",
            "style": "IPY_MODEL_248f4dd0b2434b8bb52ae4bc5353c128",
            "value": " 1.17k/1.17k [00:00&lt;00:00, 34.8kB/s]"
          }
        },
        "0b533345f1094d8d95531979b42eefe8": {
          "model_module": "@jupyter-widgets/base",
          "model_name": "LayoutModel",
          "model_module_version": "1.2.0",
          "state": {
            "_model_module": "@jupyter-widgets/base",
            "_model_module_version": "1.2.0",
            "_model_name": "LayoutModel",
            "_view_count": null,
            "_view_module": "@jupyter-widgets/base",
            "_view_module_version": "1.2.0",
            "_view_name": "LayoutView",
            "align_content": null,
            "align_items": null,
            "align_self": null,
            "border": null,
            "bottom": null,
            "display": null,
            "flex": null,
            "flex_flow": null,
            "grid_area": null,
            "grid_auto_columns": null,
            "grid_auto_flow": null,
            "grid_auto_rows": null,
            "grid_column": null,
            "grid_gap": null,
            "grid_row": null,
            "grid_template_areas": null,
            "grid_template_columns": null,
            "grid_template_rows": null,
            "height": null,
            "justify_content": null,
            "justify_items": null,
            "left": null,
            "margin": null,
            "max_height": null,
            "max_width": null,
            "min_height": null,
            "min_width": null,
            "object_fit": null,
            "object_position": null,
            "order": null,
            "overflow": null,
            "overflow_x": null,
            "overflow_y": null,
            "padding": null,
            "right": null,
            "top": null,
            "visibility": null,
            "width": null
          }
        },
        "357e615c3278425b86ead43689f03112": {
          "model_module": "@jupyter-widgets/base",
          "model_name": "LayoutModel",
          "model_module_version": "1.2.0",
          "state": {
            "_model_module": "@jupyter-widgets/base",
            "_model_module_version": "1.2.0",
            "_model_name": "LayoutModel",
            "_view_count": null,
            "_view_module": "@jupyter-widgets/base",
            "_view_module_version": "1.2.0",
            "_view_name": "LayoutView",
            "align_content": null,
            "align_items": null,
            "align_self": null,
            "border": null,
            "bottom": null,
            "display": null,
            "flex": null,
            "flex_flow": null,
            "grid_area": null,
            "grid_auto_columns": null,
            "grid_auto_flow": null,
            "grid_auto_rows": null,
            "grid_column": null,
            "grid_gap": null,
            "grid_row": null,
            "grid_template_areas": null,
            "grid_template_columns": null,
            "grid_template_rows": null,
            "height": null,
            "justify_content": null,
            "justify_items": null,
            "left": null,
            "margin": null,
            "max_height": null,
            "max_width": null,
            "min_height": null,
            "min_width": null,
            "object_fit": null,
            "object_position": null,
            "order": null,
            "overflow": null,
            "overflow_x": null,
            "overflow_y": null,
            "padding": null,
            "right": null,
            "top": null,
            "visibility": null,
            "width": null
          }
        },
        "0ea8b2729db74197bace8c7b86ef0f4d": {
          "model_module": "@jupyter-widgets/controls",
          "model_name": "DescriptionStyleModel",
          "model_module_version": "1.5.0",
          "state": {
            "_model_module": "@jupyter-widgets/controls",
            "_model_module_version": "1.5.0",
            "_model_name": "DescriptionStyleModel",
            "_view_count": null,
            "_view_module": "@jupyter-widgets/base",
            "_view_module_version": "1.2.0",
            "_view_name": "StyleView",
            "description_width": ""
          }
        },
        "77b0150e4db14ac3b52ed2b14bc52257": {
          "model_module": "@jupyter-widgets/base",
          "model_name": "LayoutModel",
          "model_module_version": "1.2.0",
          "state": {
            "_model_module": "@jupyter-widgets/base",
            "_model_module_version": "1.2.0",
            "_model_name": "LayoutModel",
            "_view_count": null,
            "_view_module": "@jupyter-widgets/base",
            "_view_module_version": "1.2.0",
            "_view_name": "LayoutView",
            "align_content": null,
            "align_items": null,
            "align_self": null,
            "border": null,
            "bottom": null,
            "display": null,
            "flex": null,
            "flex_flow": null,
            "grid_area": null,
            "grid_auto_columns": null,
            "grid_auto_flow": null,
            "grid_auto_rows": null,
            "grid_column": null,
            "grid_gap": null,
            "grid_row": null,
            "grid_template_areas": null,
            "grid_template_columns": null,
            "grid_template_rows": null,
            "height": null,
            "justify_content": null,
            "justify_items": null,
            "left": null,
            "margin": null,
            "max_height": null,
            "max_width": null,
            "min_height": null,
            "min_width": null,
            "object_fit": null,
            "object_position": null,
            "order": null,
            "overflow": null,
            "overflow_x": null,
            "overflow_y": null,
            "padding": null,
            "right": null,
            "top": null,
            "visibility": null,
            "width": null
          }
        },
        "bf2a58ba8a7346d29dfa67ff8b1984fa": {
          "model_module": "@jupyter-widgets/controls",
          "model_name": "ProgressStyleModel",
          "model_module_version": "1.5.0",
          "state": {
            "_model_module": "@jupyter-widgets/controls",
            "_model_module_version": "1.5.0",
            "_model_name": "ProgressStyleModel",
            "_view_count": null,
            "_view_module": "@jupyter-widgets/base",
            "_view_module_version": "1.2.0",
            "_view_name": "StyleView",
            "bar_color": null,
            "description_width": ""
          }
        },
        "71deb3a41f374fc899008bc682c19e55": {
          "model_module": "@jupyter-widgets/base",
          "model_name": "LayoutModel",
          "model_module_version": "1.2.0",
          "state": {
            "_model_module": "@jupyter-widgets/base",
            "_model_module_version": "1.2.0",
            "_model_name": "LayoutModel",
            "_view_count": null,
            "_view_module": "@jupyter-widgets/base",
            "_view_module_version": "1.2.0",
            "_view_name": "LayoutView",
            "align_content": null,
            "align_items": null,
            "align_self": null,
            "border": null,
            "bottom": null,
            "display": null,
            "flex": null,
            "flex_flow": null,
            "grid_area": null,
            "grid_auto_columns": null,
            "grid_auto_flow": null,
            "grid_auto_rows": null,
            "grid_column": null,
            "grid_gap": null,
            "grid_row": null,
            "grid_template_areas": null,
            "grid_template_columns": null,
            "grid_template_rows": null,
            "height": null,
            "justify_content": null,
            "justify_items": null,
            "left": null,
            "margin": null,
            "max_height": null,
            "max_width": null,
            "min_height": null,
            "min_width": null,
            "object_fit": null,
            "object_position": null,
            "order": null,
            "overflow": null,
            "overflow_x": null,
            "overflow_y": null,
            "padding": null,
            "right": null,
            "top": null,
            "visibility": null,
            "width": null
          }
        },
        "248f4dd0b2434b8bb52ae4bc5353c128": {
          "model_module": "@jupyter-widgets/controls",
          "model_name": "DescriptionStyleModel",
          "model_module_version": "1.5.0",
          "state": {
            "_model_module": "@jupyter-widgets/controls",
            "_model_module_version": "1.5.0",
            "_model_name": "DescriptionStyleModel",
            "_view_count": null,
            "_view_module": "@jupyter-widgets/base",
            "_view_module_version": "1.2.0",
            "_view_name": "StyleView",
            "description_width": ""
          }
        },
        "d930b099f99245d9bfa4565c7b0669e9": {
          "model_module": "@jupyter-widgets/controls",
          "model_name": "HBoxModel",
          "model_module_version": "1.5.0",
          "state": {
            "_dom_classes": [],
            "_model_module": "@jupyter-widgets/controls",
            "_model_module_version": "1.5.0",
            "_model_name": "HBoxModel",
            "_view_count": null,
            "_view_module": "@jupyter-widgets/controls",
            "_view_module_version": "1.5.0",
            "_view_name": "HBoxView",
            "box_style": "",
            "children": [
              "IPY_MODEL_c0ea95b6cfc648b39d621435ca8f9ae1",
              "IPY_MODEL_8bc32e15b85a44e7934cc5d212e141e2",
              "IPY_MODEL_222d3e39cdfe4bb992fbdc30d5cfb638"
            ],
            "layout": "IPY_MODEL_a39a76511a3841e08b65178867d37c5e"
          }
        },
        "c0ea95b6cfc648b39d621435ca8f9ae1": {
          "model_module": "@jupyter-widgets/controls",
          "model_name": "HTMLModel",
          "model_module_version": "1.5.0",
          "state": {
            "_dom_classes": [],
            "_model_module": "@jupyter-widgets/controls",
            "_model_module_version": "1.5.0",
            "_model_name": "HTMLModel",
            "_view_count": null,
            "_view_module": "@jupyter-widgets/controls",
            "_view_module_version": "1.5.0",
            "_view_name": "HTMLView",
            "description": "",
            "description_tooltip": null,
            "layout": "IPY_MODEL_b2964c00a3d64c6e90e79ff0854f4c9a",
            "placeholder": "​",
            "style": "IPY_MODEL_5407750c415c4dcdaafe9d642303e194",
            "value": "Downloading: 100%"
          }
        },
        "8bc32e15b85a44e7934cc5d212e141e2": {
          "model_module": "@jupyter-widgets/controls",
          "model_name": "FloatProgressModel",
          "model_module_version": "1.5.0",
          "state": {
            "_dom_classes": [],
            "_model_module": "@jupyter-widgets/controls",
            "_model_module_version": "1.5.0",
            "_model_name": "FloatProgressModel",
            "_view_count": null,
            "_view_module": "@jupyter-widgets/controls",
            "_view_module_version": "1.5.0",
            "_view_name": "ProgressView",
            "bar_style": "success",
            "description": "",
            "description_tooltip": null,
            "layout": "IPY_MODEL_d6e501640e9c4868867da1cad9dfd57a",
            "max": 2950825948,
            "min": 0,
            "orientation": "horizontal",
            "style": "IPY_MODEL_1ac290491c9d4f609ddc8f2228f9c1a3",
            "value": 2950825948
          }
        },
        "222d3e39cdfe4bb992fbdc30d5cfb638": {
          "model_module": "@jupyter-widgets/controls",
          "model_name": "HTMLModel",
          "model_module_version": "1.5.0",
          "state": {
            "_dom_classes": [],
            "_model_module": "@jupyter-widgets/controls",
            "_model_module_version": "1.5.0",
            "_model_name": "HTMLModel",
            "_view_count": null,
            "_view_module": "@jupyter-widgets/controls",
            "_view_module_version": "1.5.0",
            "_view_name": "HTMLView",
            "description": "",
            "description_tooltip": null,
            "layout": "IPY_MODEL_5ac82588e67b4193b02c911d952cb0ef",
            "placeholder": "​",
            "style": "IPY_MODEL_adc780addb894b1f8b92044af57c1fa4",
            "value": " 2.75G/2.75G [01:42&lt;00:00, 28.0MB/s]"
          }
        },
        "a39a76511a3841e08b65178867d37c5e": {
          "model_module": "@jupyter-widgets/base",
          "model_name": "LayoutModel",
          "model_module_version": "1.2.0",
          "state": {
            "_model_module": "@jupyter-widgets/base",
            "_model_module_version": "1.2.0",
            "_model_name": "LayoutModel",
            "_view_count": null,
            "_view_module": "@jupyter-widgets/base",
            "_view_module_version": "1.2.0",
            "_view_name": "LayoutView",
            "align_content": null,
            "align_items": null,
            "align_self": null,
            "border": null,
            "bottom": null,
            "display": null,
            "flex": null,
            "flex_flow": null,
            "grid_area": null,
            "grid_auto_columns": null,
            "grid_auto_flow": null,
            "grid_auto_rows": null,
            "grid_column": null,
            "grid_gap": null,
            "grid_row": null,
            "grid_template_areas": null,
            "grid_template_columns": null,
            "grid_template_rows": null,
            "height": null,
            "justify_content": null,
            "justify_items": null,
            "left": null,
            "margin": null,
            "max_height": null,
            "max_width": null,
            "min_height": null,
            "min_width": null,
            "object_fit": null,
            "object_position": null,
            "order": null,
            "overflow": null,
            "overflow_x": null,
            "overflow_y": null,
            "padding": null,
            "right": null,
            "top": null,
            "visibility": null,
            "width": null
          }
        },
        "b2964c00a3d64c6e90e79ff0854f4c9a": {
          "model_module": "@jupyter-widgets/base",
          "model_name": "LayoutModel",
          "model_module_version": "1.2.0",
          "state": {
            "_model_module": "@jupyter-widgets/base",
            "_model_module_version": "1.2.0",
            "_model_name": "LayoutModel",
            "_view_count": null,
            "_view_module": "@jupyter-widgets/base",
            "_view_module_version": "1.2.0",
            "_view_name": "LayoutView",
            "align_content": null,
            "align_items": null,
            "align_self": null,
            "border": null,
            "bottom": null,
            "display": null,
            "flex": null,
            "flex_flow": null,
            "grid_area": null,
            "grid_auto_columns": null,
            "grid_auto_flow": null,
            "grid_auto_rows": null,
            "grid_column": null,
            "grid_gap": null,
            "grid_row": null,
            "grid_template_areas": null,
            "grid_template_columns": null,
            "grid_template_rows": null,
            "height": null,
            "justify_content": null,
            "justify_items": null,
            "left": null,
            "margin": null,
            "max_height": null,
            "max_width": null,
            "min_height": null,
            "min_width": null,
            "object_fit": null,
            "object_position": null,
            "order": null,
            "overflow": null,
            "overflow_x": null,
            "overflow_y": null,
            "padding": null,
            "right": null,
            "top": null,
            "visibility": null,
            "width": null
          }
        },
        "5407750c415c4dcdaafe9d642303e194": {
          "model_module": "@jupyter-widgets/controls",
          "model_name": "DescriptionStyleModel",
          "model_module_version": "1.5.0",
          "state": {
            "_model_module": "@jupyter-widgets/controls",
            "_model_module_version": "1.5.0",
            "_model_name": "DescriptionStyleModel",
            "_view_count": null,
            "_view_module": "@jupyter-widgets/base",
            "_view_module_version": "1.2.0",
            "_view_name": "StyleView",
            "description_width": ""
          }
        },
        "d6e501640e9c4868867da1cad9dfd57a": {
          "model_module": "@jupyter-widgets/base",
          "model_name": "LayoutModel",
          "model_module_version": "1.2.0",
          "state": {
            "_model_module": "@jupyter-widgets/base",
            "_model_module_version": "1.2.0",
            "_model_name": "LayoutModel",
            "_view_count": null,
            "_view_module": "@jupyter-widgets/base",
            "_view_module_version": "1.2.0",
            "_view_name": "LayoutView",
            "align_content": null,
            "align_items": null,
            "align_self": null,
            "border": null,
            "bottom": null,
            "display": null,
            "flex": null,
            "flex_flow": null,
            "grid_area": null,
            "grid_auto_columns": null,
            "grid_auto_flow": null,
            "grid_auto_rows": null,
            "grid_column": null,
            "grid_gap": null,
            "grid_row": null,
            "grid_template_areas": null,
            "grid_template_columns": null,
            "grid_template_rows": null,
            "height": null,
            "justify_content": null,
            "justify_items": null,
            "left": null,
            "margin": null,
            "max_height": null,
            "max_width": null,
            "min_height": null,
            "min_width": null,
            "object_fit": null,
            "object_position": null,
            "order": null,
            "overflow": null,
            "overflow_x": null,
            "overflow_y": null,
            "padding": null,
            "right": null,
            "top": null,
            "visibility": null,
            "width": null
          }
        },
        "1ac290491c9d4f609ddc8f2228f9c1a3": {
          "model_module": "@jupyter-widgets/controls",
          "model_name": "ProgressStyleModel",
          "model_module_version": "1.5.0",
          "state": {
            "_model_module": "@jupyter-widgets/controls",
            "_model_module_version": "1.5.0",
            "_model_name": "ProgressStyleModel",
            "_view_count": null,
            "_view_module": "@jupyter-widgets/base",
            "_view_module_version": "1.2.0",
            "_view_name": "StyleView",
            "bar_color": null,
            "description_width": ""
          }
        },
        "5ac82588e67b4193b02c911d952cb0ef": {
          "model_module": "@jupyter-widgets/base",
          "model_name": "LayoutModel",
          "model_module_version": "1.2.0",
          "state": {
            "_model_module": "@jupyter-widgets/base",
            "_model_module_version": "1.2.0",
            "_model_name": "LayoutModel",
            "_view_count": null,
            "_view_module": "@jupyter-widgets/base",
            "_view_module_version": "1.2.0",
            "_view_name": "LayoutView",
            "align_content": null,
            "align_items": null,
            "align_self": null,
            "border": null,
            "bottom": null,
            "display": null,
            "flex": null,
            "flex_flow": null,
            "grid_area": null,
            "grid_auto_columns": null,
            "grid_auto_flow": null,
            "grid_auto_rows": null,
            "grid_column": null,
            "grid_gap": null,
            "grid_row": null,
            "grid_template_areas": null,
            "grid_template_columns": null,
            "grid_template_rows": null,
            "height": null,
            "justify_content": null,
            "justify_items": null,
            "left": null,
            "margin": null,
            "max_height": null,
            "max_width": null,
            "min_height": null,
            "min_width": null,
            "object_fit": null,
            "object_position": null,
            "order": null,
            "overflow": null,
            "overflow_x": null,
            "overflow_y": null,
            "padding": null,
            "right": null,
            "top": null,
            "visibility": null,
            "width": null
          }
        },
        "adc780addb894b1f8b92044af57c1fa4": {
          "model_module": "@jupyter-widgets/controls",
          "model_name": "DescriptionStyleModel",
          "model_module_version": "1.5.0",
          "state": {
            "_model_module": "@jupyter-widgets/controls",
            "_model_module_version": "1.5.0",
            "_model_name": "DescriptionStyleModel",
            "_view_count": null,
            "_view_module": "@jupyter-widgets/base",
            "_view_module_version": "1.2.0",
            "_view_name": "StyleView",
            "description_width": ""
          }
        },
        "d3c283aac314485bb01c59d81a880787": {
          "model_module": "@jupyter-widgets/controls",
          "model_name": "HBoxModel",
          "model_module_version": "1.5.0",
          "state": {
            "_dom_classes": [],
            "_model_module": "@jupyter-widgets/controls",
            "_model_module_version": "1.5.0",
            "_model_name": "HBoxModel",
            "_view_count": null,
            "_view_module": "@jupyter-widgets/controls",
            "_view_module_version": "1.5.0",
            "_view_name": "HBoxView",
            "box_style": "",
            "children": [
              "IPY_MODEL_e078e494c66c4fcfa7179447d218c024",
              "IPY_MODEL_b5351dd46e9b489faed19f2f9e118fbf",
              "IPY_MODEL_5407fb38555549278a614edcf535040a"
            ],
            "layout": "IPY_MODEL_2c37d1fdf18a413796ecb11b9325938b"
          }
        },
        "e078e494c66c4fcfa7179447d218c024": {
          "model_module": "@jupyter-widgets/controls",
          "model_name": "HTMLModel",
          "model_module_version": "1.5.0",
          "state": {
            "_dom_classes": [],
            "_model_module": "@jupyter-widgets/controls",
            "_model_module_version": "1.5.0",
            "_model_name": "HTMLModel",
            "_view_count": null,
            "_view_module": "@jupyter-widgets/controls",
            "_view_module_version": "1.5.0",
            "_view_name": "HTMLView",
            "description": "",
            "description_tooltip": null,
            "layout": "IPY_MODEL_2f8de73873214c5ca351326eae3af6bb",
            "placeholder": "​",
            "style": "IPY_MODEL_a15ce64a2533482fbb5f9e763c2008c4",
            "value": "Downloading: 100%"
          }
        },
        "b5351dd46e9b489faed19f2f9e118fbf": {
          "model_module": "@jupyter-widgets/controls",
          "model_name": "FloatProgressModel",
          "model_module_version": "1.5.0",
          "state": {
            "_dom_classes": [],
            "_model_module": "@jupyter-widgets/controls",
            "_model_module_version": "1.5.0",
            "_model_name": "FloatProgressModel",
            "_view_count": null,
            "_view_module": "@jupyter-widgets/controls",
            "_view_module_version": "1.5.0",
            "_view_name": "ProgressView",
            "bar_style": "success",
            "description": "",
            "description_tooltip": null,
            "layout": "IPY_MODEL_f23c0fca8e34429cb84731a9d70fd2d8",
            "max": 791656,
            "min": 0,
            "orientation": "horizontal",
            "style": "IPY_MODEL_4950a7e047e84ffb93e460662cc73fab",
            "value": 791656
          }
        },
        "5407fb38555549278a614edcf535040a": {
          "model_module": "@jupyter-widgets/controls",
          "model_name": "HTMLModel",
          "model_module_version": "1.5.0",
          "state": {
            "_dom_classes": [],
            "_model_module": "@jupyter-widgets/controls",
            "_model_module_version": "1.5.0",
            "_model_name": "HTMLModel",
            "_view_count": null,
            "_view_module": "@jupyter-widgets/controls",
            "_view_module_version": "1.5.0",
            "_view_name": "HTMLView",
            "description": "",
            "description_tooltip": null,
            "layout": "IPY_MODEL_9716cf85fb644f518651d3eaab2a3225",
            "placeholder": "​",
            "style": "IPY_MODEL_f39e8cc8e81542aba2caeff25fc1a228",
            "value": " 773k/773k [00:00&lt;00:00, 1.03MB/s]"
          }
        },
        "2c37d1fdf18a413796ecb11b9325938b": {
          "model_module": "@jupyter-widgets/base",
          "model_name": "LayoutModel",
          "model_module_version": "1.2.0",
          "state": {
            "_model_module": "@jupyter-widgets/base",
            "_model_module_version": "1.2.0",
            "_model_name": "LayoutModel",
            "_view_count": null,
            "_view_module": "@jupyter-widgets/base",
            "_view_module_version": "1.2.0",
            "_view_name": "LayoutView",
            "align_content": null,
            "align_items": null,
            "align_self": null,
            "border": null,
            "bottom": null,
            "display": null,
            "flex": null,
            "flex_flow": null,
            "grid_area": null,
            "grid_auto_columns": null,
            "grid_auto_flow": null,
            "grid_auto_rows": null,
            "grid_column": null,
            "grid_gap": null,
            "grid_row": null,
            "grid_template_areas": null,
            "grid_template_columns": null,
            "grid_template_rows": null,
            "height": null,
            "justify_content": null,
            "justify_items": null,
            "left": null,
            "margin": null,
            "max_height": null,
            "max_width": null,
            "min_height": null,
            "min_width": null,
            "object_fit": null,
            "object_position": null,
            "order": null,
            "overflow": null,
            "overflow_x": null,
            "overflow_y": null,
            "padding": null,
            "right": null,
            "top": null,
            "visibility": null,
            "width": null
          }
        },
        "2f8de73873214c5ca351326eae3af6bb": {
          "model_module": "@jupyter-widgets/base",
          "model_name": "LayoutModel",
          "model_module_version": "1.2.0",
          "state": {
            "_model_module": "@jupyter-widgets/base",
            "_model_module_version": "1.2.0",
            "_model_name": "LayoutModel",
            "_view_count": null,
            "_view_module": "@jupyter-widgets/base",
            "_view_module_version": "1.2.0",
            "_view_name": "LayoutView",
            "align_content": null,
            "align_items": null,
            "align_self": null,
            "border": null,
            "bottom": null,
            "display": null,
            "flex": null,
            "flex_flow": null,
            "grid_area": null,
            "grid_auto_columns": null,
            "grid_auto_flow": null,
            "grid_auto_rows": null,
            "grid_column": null,
            "grid_gap": null,
            "grid_row": null,
            "grid_template_areas": null,
            "grid_template_columns": null,
            "grid_template_rows": null,
            "height": null,
            "justify_content": null,
            "justify_items": null,
            "left": null,
            "margin": null,
            "max_height": null,
            "max_width": null,
            "min_height": null,
            "min_width": null,
            "object_fit": null,
            "object_position": null,
            "order": null,
            "overflow": null,
            "overflow_x": null,
            "overflow_y": null,
            "padding": null,
            "right": null,
            "top": null,
            "visibility": null,
            "width": null
          }
        },
        "a15ce64a2533482fbb5f9e763c2008c4": {
          "model_module": "@jupyter-widgets/controls",
          "model_name": "DescriptionStyleModel",
          "model_module_version": "1.5.0",
          "state": {
            "_model_module": "@jupyter-widgets/controls",
            "_model_module_version": "1.5.0",
            "_model_name": "DescriptionStyleModel",
            "_view_count": null,
            "_view_module": "@jupyter-widgets/base",
            "_view_module_version": "1.2.0",
            "_view_name": "StyleView",
            "description_width": ""
          }
        },
        "f23c0fca8e34429cb84731a9d70fd2d8": {
          "model_module": "@jupyter-widgets/base",
          "model_name": "LayoutModel",
          "model_module_version": "1.2.0",
          "state": {
            "_model_module": "@jupyter-widgets/base",
            "_model_module_version": "1.2.0",
            "_model_name": "LayoutModel",
            "_view_count": null,
            "_view_module": "@jupyter-widgets/base",
            "_view_module_version": "1.2.0",
            "_view_name": "LayoutView",
            "align_content": null,
            "align_items": null,
            "align_self": null,
            "border": null,
            "bottom": null,
            "display": null,
            "flex": null,
            "flex_flow": null,
            "grid_area": null,
            "grid_auto_columns": null,
            "grid_auto_flow": null,
            "grid_auto_rows": null,
            "grid_column": null,
            "grid_gap": null,
            "grid_row": null,
            "grid_template_areas": null,
            "grid_template_columns": null,
            "grid_template_rows": null,
            "height": null,
            "justify_content": null,
            "justify_items": null,
            "left": null,
            "margin": null,
            "max_height": null,
            "max_width": null,
            "min_height": null,
            "min_width": null,
            "object_fit": null,
            "object_position": null,
            "order": null,
            "overflow": null,
            "overflow_x": null,
            "overflow_y": null,
            "padding": null,
            "right": null,
            "top": null,
            "visibility": null,
            "width": null
          }
        },
        "4950a7e047e84ffb93e460662cc73fab": {
          "model_module": "@jupyter-widgets/controls",
          "model_name": "ProgressStyleModel",
          "model_module_version": "1.5.0",
          "state": {
            "_model_module": "@jupyter-widgets/controls",
            "_model_module_version": "1.5.0",
            "_model_name": "ProgressStyleModel",
            "_view_count": null,
            "_view_module": "@jupyter-widgets/base",
            "_view_module_version": "1.2.0",
            "_view_name": "StyleView",
            "bar_color": null,
            "description_width": ""
          }
        },
        "9716cf85fb644f518651d3eaab2a3225": {
          "model_module": "@jupyter-widgets/base",
          "model_name": "LayoutModel",
          "model_module_version": "1.2.0",
          "state": {
            "_model_module": "@jupyter-widgets/base",
            "_model_module_version": "1.2.0",
            "_model_name": "LayoutModel",
            "_view_count": null,
            "_view_module": "@jupyter-widgets/base",
            "_view_module_version": "1.2.0",
            "_view_name": "LayoutView",
            "align_content": null,
            "align_items": null,
            "align_self": null,
            "border": null,
            "bottom": null,
            "display": null,
            "flex": null,
            "flex_flow": null,
            "grid_area": null,
            "grid_auto_columns": null,
            "grid_auto_flow": null,
            "grid_auto_rows": null,
            "grid_column": null,
            "grid_gap": null,
            "grid_row": null,
            "grid_template_areas": null,
            "grid_template_columns": null,
            "grid_template_rows": null,
            "height": null,
            "justify_content": null,
            "justify_items": null,
            "left": null,
            "margin": null,
            "max_height": null,
            "max_width": null,
            "min_height": null,
            "min_width": null,
            "object_fit": null,
            "object_position": null,
            "order": null,
            "overflow": null,
            "overflow_x": null,
            "overflow_y": null,
            "padding": null,
            "right": null,
            "top": null,
            "visibility": null,
            "width": null
          }
        },
        "f39e8cc8e81542aba2caeff25fc1a228": {
          "model_module": "@jupyter-widgets/controls",
          "model_name": "DescriptionStyleModel",
          "model_module_version": "1.5.0",
          "state": {
            "_model_module": "@jupyter-widgets/controls",
            "_model_module_version": "1.5.0",
            "_model_name": "DescriptionStyleModel",
            "_view_count": null,
            "_view_module": "@jupyter-widgets/base",
            "_view_module_version": "1.2.0",
            "_view_name": "StyleView",
            "description_width": ""
          }
        },
        "f7849084439b4d199663f03582af7d15": {
          "model_module": "@jupyter-widgets/controls",
          "model_name": "HBoxModel",
          "model_module_version": "1.5.0",
          "state": {
            "_dom_classes": [],
            "_model_module": "@jupyter-widgets/controls",
            "_model_module_version": "1.5.0",
            "_model_name": "HBoxModel",
            "_view_count": null,
            "_view_module": "@jupyter-widgets/controls",
            "_view_module_version": "1.5.0",
            "_view_name": "HBoxView",
            "box_style": "",
            "children": [
              "IPY_MODEL_f32424ba30d24022a365585ec6d2038b",
              "IPY_MODEL_d744726c8cdb4ccb824bbe10f51489e3",
              "IPY_MODEL_856bb466e4dd470fbeeacda838795c0b"
            ],
            "layout": "IPY_MODEL_7e218bc899cd46328a797f6ba15413a7"
          }
        },
        "f32424ba30d24022a365585ec6d2038b": {
          "model_module": "@jupyter-widgets/controls",
          "model_name": "HTMLModel",
          "model_module_version": "1.5.0",
          "state": {
            "_dom_classes": [],
            "_model_module": "@jupyter-widgets/controls",
            "_model_module_version": "1.5.0",
            "_model_name": "HTMLModel",
            "_view_count": null,
            "_view_module": "@jupyter-widgets/controls",
            "_view_module_version": "1.5.0",
            "_view_name": "HTMLView",
            "description": "",
            "description_tooltip": null,
            "layout": "IPY_MODEL_7411c76231464fe9bad3d770cbfb44b6",
            "placeholder": "​",
            "style": "IPY_MODEL_d26394d44a9041eba8d1266cb907db24",
            "value": "  0%"
          }
        },
        "d744726c8cdb4ccb824bbe10f51489e3": {
          "model_module": "@jupyter-widgets/controls",
          "model_name": "FloatProgressModel",
          "model_module_version": "1.5.0",
          "state": {
            "_dom_classes": [],
            "_model_module": "@jupyter-widgets/controls",
            "_model_module_version": "1.5.0",
            "_model_name": "FloatProgressModel",
            "_view_count": null,
            "_view_module": "@jupyter-widgets/controls",
            "_view_module_version": "1.5.0",
            "_view_name": "ProgressView",
            "bar_style": "",
            "description": "",
            "description_tooltip": null,
            "layout": "IPY_MODEL_0602f95120f84b90afc7fa250017e614",
            "max": 15594,
            "min": 0,
            "orientation": "horizontal",
            "style": "IPY_MODEL_dc9b6aedb79548f6ba95fbea67f8a43e",
            "value": 0
          }
        },
        "856bb466e4dd470fbeeacda838795c0b": {
          "model_module": "@jupyter-widgets/controls",
          "model_name": "HTMLModel",
          "model_module_version": "1.5.0",
          "state": {
            "_dom_classes": [],
            "_model_module": "@jupyter-widgets/controls",
            "_model_module_version": "1.5.0",
            "_model_name": "HTMLModel",
            "_view_count": null,
            "_view_module": "@jupyter-widgets/controls",
            "_view_module_version": "1.5.0",
            "_view_name": "HTMLView",
            "description": "",
            "description_tooltip": null,
            "layout": "IPY_MODEL_c2c9ea5a0f144e9cab13044ce5c58c2e",
            "placeholder": "​",
            "style": "IPY_MODEL_84451331cbc44571921b79c583ea1a7e",
            "value": " 0/15594 [00:00&lt;?, ?it/s]"
          }
        },
        "7e218bc899cd46328a797f6ba15413a7": {
          "model_module": "@jupyter-widgets/base",
          "model_name": "LayoutModel",
          "model_module_version": "1.2.0",
          "state": {
            "_model_module": "@jupyter-widgets/base",
            "_model_module_version": "1.2.0",
            "_model_name": "LayoutModel",
            "_view_count": null,
            "_view_module": "@jupyter-widgets/base",
            "_view_module_version": "1.2.0",
            "_view_name": "LayoutView",
            "align_content": null,
            "align_items": null,
            "align_self": null,
            "border": null,
            "bottom": null,
            "display": null,
            "flex": null,
            "flex_flow": null,
            "grid_area": null,
            "grid_auto_columns": null,
            "grid_auto_flow": null,
            "grid_auto_rows": null,
            "grid_column": null,
            "grid_gap": null,
            "grid_row": null,
            "grid_template_areas": null,
            "grid_template_columns": null,
            "grid_template_rows": null,
            "height": null,
            "justify_content": null,
            "justify_items": null,
            "left": null,
            "margin": null,
            "max_height": null,
            "max_width": null,
            "min_height": null,
            "min_width": null,
            "object_fit": null,
            "object_position": null,
            "order": null,
            "overflow": null,
            "overflow_x": null,
            "overflow_y": null,
            "padding": null,
            "right": null,
            "top": null,
            "visibility": null,
            "width": null
          }
        },
        "7411c76231464fe9bad3d770cbfb44b6": {
          "model_module": "@jupyter-widgets/base",
          "model_name": "LayoutModel",
          "model_module_version": "1.2.0",
          "state": {
            "_model_module": "@jupyter-widgets/base",
            "_model_module_version": "1.2.0",
            "_model_name": "LayoutModel",
            "_view_count": null,
            "_view_module": "@jupyter-widgets/base",
            "_view_module_version": "1.2.0",
            "_view_name": "LayoutView",
            "align_content": null,
            "align_items": null,
            "align_self": null,
            "border": null,
            "bottom": null,
            "display": null,
            "flex": null,
            "flex_flow": null,
            "grid_area": null,
            "grid_auto_columns": null,
            "grid_auto_flow": null,
            "grid_auto_rows": null,
            "grid_column": null,
            "grid_gap": null,
            "grid_row": null,
            "grid_template_areas": null,
            "grid_template_columns": null,
            "grid_template_rows": null,
            "height": null,
            "justify_content": null,
            "justify_items": null,
            "left": null,
            "margin": null,
            "max_height": null,
            "max_width": null,
            "min_height": null,
            "min_width": null,
            "object_fit": null,
            "object_position": null,
            "order": null,
            "overflow": null,
            "overflow_x": null,
            "overflow_y": null,
            "padding": null,
            "right": null,
            "top": null,
            "visibility": null,
            "width": null
          }
        },
        "d26394d44a9041eba8d1266cb907db24": {
          "model_module": "@jupyter-widgets/controls",
          "model_name": "DescriptionStyleModel",
          "model_module_version": "1.5.0",
          "state": {
            "_model_module": "@jupyter-widgets/controls",
            "_model_module_version": "1.5.0",
            "_model_name": "DescriptionStyleModel",
            "_view_count": null,
            "_view_module": "@jupyter-widgets/base",
            "_view_module_version": "1.2.0",
            "_view_name": "StyleView",
            "description_width": ""
          }
        },
        "0602f95120f84b90afc7fa250017e614": {
          "model_module": "@jupyter-widgets/base",
          "model_name": "LayoutModel",
          "model_module_version": "1.2.0",
          "state": {
            "_model_module": "@jupyter-widgets/base",
            "_model_module_version": "1.2.0",
            "_model_name": "LayoutModel",
            "_view_count": null,
            "_view_module": "@jupyter-widgets/base",
            "_view_module_version": "1.2.0",
            "_view_name": "LayoutView",
            "align_content": null,
            "align_items": null,
            "align_self": null,
            "border": null,
            "bottom": null,
            "display": null,
            "flex": null,
            "flex_flow": null,
            "grid_area": null,
            "grid_auto_columns": null,
            "grid_auto_flow": null,
            "grid_auto_rows": null,
            "grid_column": null,
            "grid_gap": null,
            "grid_row": null,
            "grid_template_areas": null,
            "grid_template_columns": null,
            "grid_template_rows": null,
            "height": null,
            "justify_content": null,
            "justify_items": null,
            "left": null,
            "margin": null,
            "max_height": null,
            "max_width": null,
            "min_height": null,
            "min_width": null,
            "object_fit": null,
            "object_position": null,
            "order": null,
            "overflow": null,
            "overflow_x": null,
            "overflow_y": null,
            "padding": null,
            "right": null,
            "top": null,
            "visibility": null,
            "width": null
          }
        },
        "dc9b6aedb79548f6ba95fbea67f8a43e": {
          "model_module": "@jupyter-widgets/controls",
          "model_name": "ProgressStyleModel",
          "model_module_version": "1.5.0",
          "state": {
            "_model_module": "@jupyter-widgets/controls",
            "_model_module_version": "1.5.0",
            "_model_name": "ProgressStyleModel",
            "_view_count": null,
            "_view_module": "@jupyter-widgets/base",
            "_view_module_version": "1.2.0",
            "_view_name": "StyleView",
            "bar_color": null,
            "description_width": ""
          }
        },
        "c2c9ea5a0f144e9cab13044ce5c58c2e": {
          "model_module": "@jupyter-widgets/base",
          "model_name": "LayoutModel",
          "model_module_version": "1.2.0",
          "state": {
            "_model_module": "@jupyter-widgets/base",
            "_model_module_version": "1.2.0",
            "_model_name": "LayoutModel",
            "_view_count": null,
            "_view_module": "@jupyter-widgets/base",
            "_view_module_version": "1.2.0",
            "_view_name": "LayoutView",
            "align_content": null,
            "align_items": null,
            "align_self": null,
            "border": null,
            "bottom": null,
            "display": null,
            "flex": null,
            "flex_flow": null,
            "grid_area": null,
            "grid_auto_columns": null,
            "grid_auto_flow": null,
            "grid_auto_rows": null,
            "grid_column": null,
            "grid_gap": null,
            "grid_row": null,
            "grid_template_areas": null,
            "grid_template_columns": null,
            "grid_template_rows": null,
            "height": null,
            "justify_content": null,
            "justify_items": null,
            "left": null,
            "margin": null,
            "max_height": null,
            "max_width": null,
            "min_height": null,
            "min_width": null,
            "object_fit": null,
            "object_position": null,
            "order": null,
            "overflow": null,
            "overflow_x": null,
            "overflow_y": null,
            "padding": null,
            "right": null,
            "top": null,
            "visibility": null,
            "width": null
          }
        },
        "84451331cbc44571921b79c583ea1a7e": {
          "model_module": "@jupyter-widgets/controls",
          "model_name": "DescriptionStyleModel",
          "model_module_version": "1.5.0",
          "state": {
            "_model_module": "@jupyter-widgets/controls",
            "_model_module_version": "1.5.0",
            "_model_name": "DescriptionStyleModel",
            "_view_count": null,
            "_view_module": "@jupyter-widgets/base",
            "_view_module_version": "1.2.0",
            "_view_name": "StyleView",
            "description_width": ""
          }
        }
      }
    }
  },
  "nbformat": 4,
  "nbformat_minor": 0
}